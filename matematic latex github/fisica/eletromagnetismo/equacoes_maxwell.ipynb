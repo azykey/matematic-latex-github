{
 "cells": [
  {
   "cell_type": "markdown",
   "metadata": {},
   "source": [
    "# Equações de Maxwell",
    "",
    "As equações de Maxwell são um conjunto de quatro equações diferenciais parciais que formam a base da eletrodinâmica clássica, óptica e circuitos elétricos. Elas descrevem como os campos elétricos e magnéticos são gerados e alterados por cargas, correntes e mudanças nos campos."
   ]
  },
  {
   "cell_type": "markdown",
   "metadata": {},
   "source": [
    "## Forma Diferencial das Equações de Maxwell",
    "",
    "### Lei de Gauss para o campo elétrico",
    "",
    "$$\nabla \cdot \mathbf{E} = \frac{\rho}{\varepsilon_0}$$",
    "",
    "Onde:",
    "- $\mathbf{E}$ é o campo elétrico",
    "- $\rho$ é a densidade de carga elétrica",
    "- $\varepsilon_0$ é a permissividade do vácuo"
   ]
  },
  {
   "cell_type": "markdown",
   "metadata": {},
   "source": [
    "### Lei de Gauss para o campo magnético",
    "",
    "$$\nabla \cdot \mathbf{B} = 0$$",
    "",
    "Onde:",
    "- $\mathbf{B}$ é o campo magnético",
    "",
    "Esta equação indica que não existem monopolos magnéticos."
   ]
  },
  {
   "cell_type": "markdown",
   "metadata": {},
   "source": [
    "### Lei de Faraday",
    "",
    "$$\nabla \times \mathbf{E} = -\frac{\partial\mathbf{B}}{\partial t}$$",
    "",
    "Onde:",
    "- $\mathbf{E}$ é o campo elétrico",
    "- $\mathbf{B}$ é o campo magnético",
    "- $t$ é o tempo",
    "",
    "Esta equação descreve como um campo magnético variável no tempo induz um campo elétrico."
   ]
  },
  {
   "cell_type": "markdown",
   "metadata": {},
   "source": [
    "### Lei de Ampère-Maxwell",
    "",
    "$$\nabla \times \mathbf{B} = \mu_0\mathbf{J} + \mu_0\varepsilon_0\frac{\partial\mathbf{E}}{\partial t}$$",
    "",
    "Onde:",
    "- $\mathbf{B}$ é o campo magnético",
    "- $\mathbf{J}$ é a densidade de corrente elétrica",
    "- $\mu_0$ é a permeabilidade do vácuo",
    "- $\varepsilon_0$ é a permissividade do vácuo",
    "- $\mathbf{E}$ é o campo elétrico",
    "- $t$ é o tempo",
    "",
    "Esta equação descreve como um campo elétrico variável no tempo e uma corrente elétrica induzem um campo magnético."
   ]
  },
  {
   "cell_type": "code",
   "execution_count": null,
   "metadata": {},
   "outputs": [],
   "source": [
    "import numpy as np",
    "import matplotlib.pyplot as plt",
    "from mpl_toolkits.mplot3d import Axes3D",
    "from matplotlib.patches import FancyArrowPatch",
    "from mpl_toolkits.mplot3d import proj3d",
    "",
    "# Classe para desenhar vetores 3D",
    "class Arrow3D(FancyArrowPatch):",
    "    def __init__(self, xs, ys, zs, *args, **kwargs):",
    "        FancyArrowPatch.__init__(self, (0, 0), (0, 0), *args, **kwargs)",
    "        self._verts3d = xs, ys, zs",
    "    ",
    "    def draw(self, renderer):",
    "        xs3d, ys3d, zs3d = self._verts3d",
    "        xs, ys, zs = proj3d.proj_transform(xs3d, ys3d, zs3d, renderer.M)",
    "        self.set_positions((xs[0], ys[0]), (xs[1], ys[1]))",
    "        FancyArrowPatch.draw(self, renderer)",
    "",
    "# Função para visualizar campo elétrico de uma carga pontual",
    "def visualizar_campo_eletrico():",
    "    fig = plt.figure(figsize=(10, 8))",
    "    ax = fig.add_subplot(111, projection='3d')",
    "    ",
    "    # Definir pontos no espaço",
    "    x, y, z = np.meshgrid(np.linspace(-2, 2, 5),",
    "                          np.linspace(-2, 2, 5),",
    "                          np.linspace(-2, 2, 5))",
    "    ",
    "    # Calcular campo elétrico de uma carga pontual na origem",
    "    r = np.sqrt(x**2 + y**2 + z**2)",
    "    r = np.where(r < 0.1, 0.1, r)  # Evitar divisão por zero",
    "    ",
    "    # Componentes do campo elétrico",
    "    Ex = x / r**3",
    "    Ey = y / r**3",
    "    Ez = z / r**3",
    "    ",
    "    # Normalizar vetores para visualização",
    "    E_norm = np.sqrt(Ex**2 + Ey**2 + Ez**2)",
    "    Ex = Ex / E_norm",
    "    Ey = Ey / E_norm",
    "    Ez = Ez / E_norm",
    "    ",
    "    # Desenhar vetores",
    "    for i in range(x.shape[0]):",
    "        for j in range(x.shape[1]):",
    "            for k in range(x.shape[2]):",
    "                if r[i,j,k] > 0.5:  # Não desenhar vetores muito próximos da origem",
    "                    a = Arrow3D([x[i,j,k], x[i,j,k] + Ex[i,j,k]],",
    "                               [y[i,j,k], y[i,j,k] + Ey[i,j,k]],",
    "                               [z[i,j,k], z[i,j,k] + Ez[i,j,k]],",
    "                               mutation_scale=15, lw=1, arrowstyle='->', color='r')",
    "                    ax.add_artist(a)",
    "    ",
    "    # Adicionar carga na origem",
    "    ax.scatter([0], [0], [0], color='b', s=100)",
    "    ",
    "    # Configurar gráfico",
    "    ax.set_xlabel('X')",
    "    ax.set_ylabel('Y')",
    "    ax.set_zlabel('Z')",
    "    ax.set_title('Campo Elétrico de uma Carga Pontual')",
    "    ax.set_xlim([-2, 2])",
    "    ax.set_ylim([-2, 2])",
    "    ax.set_zlim([-2, 2])",
    "    ",
    "    plt.tight_layout()",
    "    plt.show()",
    "",
    "# Executar a visualização",
    "# visualizar_campo_eletrico()"
   ]
  },
  {
   "cell_type": "markdown",
   "metadata": {},
   "source": [
    "## Forma Integral das Equações de Maxwell",
    "",
    "As equações de Maxwell também podem ser expressas em forma integral:",
    "",
    "### Lei de Gauss para o campo elétrico",
    "$$\oint_S \mathbf{E} \cdot d\mathbf{A} = \frac{Q_{enc}}{\varepsilon_0}$$",
    "",
    "### Lei de Gauss para o campo magnético",
    "$$\oint_S \mathbf{B} \cdot d\mathbf{A} = 0$$",
    "",
    "### Lei de Faraday",
    "$$\oint_C \mathbf{E} \cdot d\mathbf{l} = -\frac{d\Phi_B}{dt}$$",
    "",
    "### Lei de Ampère-Maxwell",
    "$$\oint_C \mathbf{B} \cdot d\mathbf{l} = \mu_0 I_{enc} + \mu_0 \varepsilon_0 \frac{d\Phi_E}{dt}$$"
   ]
  },
  {
   "cell_type": "markdown",
   "metadata": {},
   "source": [
    "## Aplicações das Equações de Maxwell",
    "",
    "As equações de Maxwell têm inúmeras aplicações, incluindo:",
    "",
    "1. **Ondas Eletromagnéticas**: As equações preveem a existência de ondas eletromagnéticas, incluindo a luz.",
    "2. **Óptica**: Explicam fenômenos como reflexão, refração e difração da luz.",
    "3. **Circuitos Elétricos**: Fornecem a base para a análise de circuitos elétricos.",
    "4. **Antenas e Comunicação**: Fundamentais para o projeto de antenas e sistemas de comunicação.",
    "5. **Eletrodinâmica Quântica**: Servem como base para a eletrodinâmica quântica."
   ]
  },
  {
   "cell_type": "markdown",
   "metadata": {},
   "source": [
    "## Referências",
    "",
    "1. Griffiths, D. J. (2017). *Introduction to Electrodynamics*. Cambridge University Press.",
    "2. Jackson, J. D. (1999). *Classical Electrodynamics*. Wiley.",
    "3. Feynman, R. P., Leighton, R. B., & Sands, M. (2011). *The Feynman Lectures on Physics, Vol. II: The New Millennium Edition: Mainly Electromagnetism and Matter*. Basic Books."
   ]
  }
 ],
 "metadata": {
  "kernelspec": {
   "display_name": "Python 3",
   "language": "python",
   "name": "python3"
  },
  "language_info": {
   "codemirror_mode": {
    "name": "ipython",
    "version": 3
   },
   "file_extension": ".py",
   "mimetype": "text/x-python",
   "name": "python",
   "nbconvert_exporter": "python",
   "pygments_lexer": "ipython3",
   "version": "3.8.10"
  }
 },
 "nbformat": 4,
 "nbformat_minor": 4
}